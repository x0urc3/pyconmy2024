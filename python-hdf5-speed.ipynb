{
 "cells": [
  {
   "cell_type": "markdown",
   "id": "af13e17f",
   "metadata": {},
   "source": [
    "# Data Driven: Gearing up Python for High-Speed HDF Adventures\n",
    "## PyConMy 2024\n",
    "### Khairulmizam Samsudin, PhD\n",
    "#### Faculty of Engineering, Universiti Putra Malaysia"
   ]
  },
  {
   "cell_type": "markdown",
   "id": "a9e52f8a",
   "metadata": {},
   "source": [
    "\n",
    "# Draft\n",
    "- kmbs \n",
    "\t- python experience - research/education settings\n",
    "\t- where is kmbs ie close to hardware/os/middleware\n",
    "\t- c and python \n",
    "- In general, the HDF5 method significantly outperforms the CSV method on write speed, read speed, and storage size. The best performance in terms of timing occurs for the largest array size of 20,000,000 elements, where the write and read times for HDF5 are only 2.67% and 3.66% of the CSV times, respectively. - most example load from csv - table compare size for csv, numpy and hdf5\n",
    "- motivation time and accuracy not cost - triangle cost, performance and accuracy\n",
    "- focus during acquisition but still applies to other steps - diagram illustrate data flow IE acquisitions, storage, view, preprocess, ml, decision\n",
    "- overhead caused by layered architecture ie barebone, os, container, vm - not applicable since docker/VM can mount volume\n",
    "- overhead data transmission \n",
    "- example\n",
    "\t- different scheme to store might use more memory IE store timestamp and data in different location\n",
    "\t-  size and speed of storing 64bit Vs 32bit ie hdf5 save 32bit array as 64bit data\n",
    "- das read/write during adc conversion\n",
    "- point cloud read for processing with different scheme ie [[hdf5-lpc]]\n",
    "- why hdf vs numpy vs rdms\n",
    "    - access pattern\n",
    "    - cost vs time vs accuracy\n",
    "- Story format? i.e. how to implement [[midas]] and [[ndt4ce]]\n",
    "- for sparse and dense data?\n",
    "- example [[midas]] and [[ndt4ce]] and ml - acknowledge mimos n tnf\n",
    "- focus on hardware\n",
    "- alternatives tiles and pytables and numpy\n",
    "- storing scheme [[hdf5-lpc]], tiles talk\n",
    "- scheme to store \n",
    "\t- das data/raw/timestamp/arrays\n",
    "\t- point cloud - [[hdf5-lpc]]"
   ]
  }
 ],
 "metadata": {
  "kernelspec": {
   "display_name": "Python 3 (ipykernel)",
   "language": "python",
   "name": "python3"
  },
  "language_info": {
   "codemirror_mode": {
    "name": "ipython",
    "version": 3
   },
   "file_extension": ".py",
   "mimetype": "text/x-python",
   "name": "python",
   "nbconvert_exporter": "python",
   "pygments_lexer": "ipython3",
   "version": "3.11.2"
  }
 },
 "nbformat": 4,
 "nbformat_minor": 5
}
